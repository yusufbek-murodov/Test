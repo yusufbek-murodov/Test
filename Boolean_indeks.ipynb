{
  "nbformat": 4,
  "nbformat_minor": 0,
  "metadata": {
    "colab": {
      "provenance": [],
      "authorship_tag": "ABX9TyM5NysLp0jpc+QZKikjba92",
      "include_colab_link": true
    },
    "kernelspec": {
      "name": "python3",
      "display_name": "Python 3"
    },
    "language_info": {
      "name": "python"
    }
  },
  "cells": [
    {
      "cell_type": "markdown",
      "metadata": {
        "id": "view-in-github",
        "colab_type": "text"
      },
      "source": [
        "<a href=\"https://colab.research.google.com/github/yusufbek-murodov/Test/blob/main/Boolean_indeks.ipynb\" target=\"_parent\"><img src=\"https://colab.research.google.com/assets/colab-badge.svg\" alt=\"Open In Colab\"/></a>"
      ]
    },
    {
      "cell_type": "code",
      "execution_count": 2,
      "metadata": {
        "id": "xAGvysq6jp8P"
      },
      "outputs": [],
      "source": [
        "import numpy as np"
      ]
    },
    {
      "cell_type": "code",
      "source": [
        "# Ismlar\n",
        "names = np.array(['Hasan', 'Husan', 'Javohir', 'Elyor', 'Hasan', 'Javohir', 'Elyor'])\n",
        "names"
      ],
      "metadata": {
        "colab": {
          "base_uri": "https://localhost:8080/"
        },
        "id": "KiWO-WlzjtzK",
        "outputId": "ea6df832-4423-4392-8a5e-25adcc85d9c2"
      },
      "execution_count": 3,
      "outputs": [
        {
          "output_type": "execute_result",
          "data": {
            "text/plain": [
              "array(['Hasan', 'Husan', 'Javohir', 'Elyor', 'Hasan', 'Javohir', 'Elyor'],\n",
              "      dtype='<U7')"
            ]
          },
          "metadata": {},
          "execution_count": 3
        }
      ]
    },
    {
      "cell_type": "code",
      "source": [
        "# data\n",
        "data = np.random.randn(7,4)\n",
        "data"
      ],
      "metadata": {
        "colab": {
          "base_uri": "https://localhost:8080/"
        },
        "id": "e_iMvqFNj0OE",
        "outputId": "7f678432-a757-4310-ac18-e92e69344ec0"
      },
      "execution_count": 4,
      "outputs": [
        {
          "output_type": "execute_result",
          "data": {
            "text/plain": [
              "array([[ 4.29175134e-01, -2.42941744e+00, -1.19612587e+00,\n",
              "         1.32359151e+00],\n",
              "       [ 1.62603502e+00, -7.25770227e-01,  3.68687221e-01,\n",
              "        -2.19556489e-01],\n",
              "       [ 3.68564427e-01, -1.89978372e+00,  1.19956390e-01,\n",
              "         6.36769480e-01],\n",
              "       [ 1.77265547e+00, -1.35563369e+00,  1.25655520e+00,\n",
              "        -1.31314618e+00],\n",
              "       [-4.64617320e-01, -3.87599854e-02,  1.25561878e+00,\n",
              "        -5.23071825e-01],\n",
              "       [-5.19736067e-01,  8.90026865e-01, -9.61463424e-02,\n",
              "        -2.32361225e+00],\n",
              "       [ 2.15413529e-03, -2.68176945e-02, -9.62647194e-02,\n",
              "         7.52314033e-01]])"
            ]
          },
          "metadata": {},
          "execution_count": 4
        }
      ]
    },
    {
      "cell_type": "code",
      "source": [
        "names == 'Hasan'"
      ],
      "metadata": {
        "colab": {
          "base_uri": "https://localhost:8080/"
        },
        "id": "IzyYoa5Bj4QZ",
        "outputId": "3da2dc7b-4069-433b-8b0b-1c87d4f11863"
      },
      "execution_count": 5,
      "outputs": [
        {
          "output_type": "execute_result",
          "data": {
            "text/plain": [
              "array([ True, False, False, False,  True, False, False])"
            ]
          },
          "metadata": {},
          "execution_count": 5
        }
      ]
    },
    {
      "cell_type": "code",
      "source": [
        "data[names == 'Hasan'] # Hasanga tegishli bo'lgan barcha ma'lumotlarni ajratib olish"
      ],
      "metadata": {
        "colab": {
          "base_uri": "https://localhost:8080/"
        },
        "id": "CrluDE0Lj7lv",
        "outputId": "4219607d-2223-4265-dd35-2529d5958d4a"
      },
      "execution_count": 6,
      "outputs": [
        {
          "output_type": "execute_result",
          "data": {
            "text/plain": [
              "array([[ 0.42917513, -2.42941744, -1.19612587,  1.32359151],\n",
              "       [-0.46461732, -0.03875999,  1.25561878, -0.52307182]])"
            ]
          },
          "metadata": {},
          "execution_count": 6
        }
      ]
    },
    {
      "cell_type": "code",
      "source": [
        "data[names == 'Elyor'] # Elyorga tegishli bo'lgan barcha ma'lumotlarni ajratib olish"
      ],
      "metadata": {
        "colab": {
          "base_uri": "https://localhost:8080/"
        },
        "id": "Ib7-Vh8RkAXn",
        "outputId": "4bfef9bc-b7d5-43ec-9607-7b82919608b6"
      },
      "execution_count": 7,
      "outputs": [
        {
          "output_type": "execute_result",
          "data": {
            "text/plain": [
              "array([[ 1.77265547, -1.35563369,  1.2565552 , -1.31314618],\n",
              "       [ 0.00215414, -0.02681769, -0.09626472,  0.75231403]])"
            ]
          },
          "metadata": {},
          "execution_count": 7
        }
      ]
    },
    {
      "cell_type": "code",
      "source": [
        "data[names == 'Hasan', 2:] # Hasaanga tegishli bo'lgan oxirgi ikkita ustundagi ma'lumotlarni ajratib olish"
      ],
      "metadata": {
        "colab": {
          "base_uri": "https://localhost:8080/"
        },
        "id": "BljOxCBYkLru",
        "outputId": "b99a7e1a-a821-45e4-c933-fcc02a0a3e35"
      },
      "execution_count": 8,
      "outputs": [
        {
          "output_type": "execute_result",
          "data": {
            "text/plain": [
              "array([[-1.19612587,  1.32359151],\n",
              "       [ 1.25561878, -0.52307182]])"
            ]
          },
          "metadata": {},
          "execution_count": 8
        }
      ]
    },
    {
      "cell_type": "code",
      "source": [
        "data[names != 'Hasan'] # Hasandan tashqari barcha insonlarning ma'lumotlarini ajratib olish"
      ],
      "metadata": {
        "colab": {
          "base_uri": "https://localhost:8080/"
        },
        "id": "YL1QZfnFkTOc",
        "outputId": "7f979394-6324-4903-fe21-adcbb668c4ff"
      },
      "execution_count": 9,
      "outputs": [
        {
          "output_type": "execute_result",
          "data": {
            "text/plain": [
              "array([[ 1.62603502e+00, -7.25770227e-01,  3.68687221e-01,\n",
              "        -2.19556489e-01],\n",
              "       [ 3.68564427e-01, -1.89978372e+00,  1.19956390e-01,\n",
              "         6.36769480e-01],\n",
              "       [ 1.77265547e+00, -1.35563369e+00,  1.25655520e+00,\n",
              "        -1.31314618e+00],\n",
              "       [-5.19736067e-01,  8.90026865e-01, -9.61463424e-02,\n",
              "        -2.32361225e+00],\n",
              "       [ 2.15413529e-03, -2.68176945e-02, -9.62647194e-02,\n",
              "         7.52314033e-01]])"
            ]
          },
          "metadata": {},
          "execution_count": 9
        }
      ]
    },
    {
      "cell_type": "code",
      "source": [
        "data[~(names == 'Hasan')] # (~) yuqoridagi cell bilan bir xil natija beradi"
      ],
      "metadata": {
        "colab": {
          "base_uri": "https://localhost:8080/"
        },
        "id": "uwakeddEkbPQ",
        "outputId": "f51411cd-ea60-4670-eba1-55f8cdf8da45"
      },
      "execution_count": 10,
      "outputs": [
        {
          "output_type": "execute_result",
          "data": {
            "text/plain": [
              "array([[ 1.62603502e+00, -7.25770227e-01,  3.68687221e-01,\n",
              "        -2.19556489e-01],\n",
              "       [ 3.68564427e-01, -1.89978372e+00,  1.19956390e-01,\n",
              "         6.36769480e-01],\n",
              "       [ 1.77265547e+00, -1.35563369e+00,  1.25655520e+00,\n",
              "        -1.31314618e+00],\n",
              "       [-5.19736067e-01,  8.90026865e-01, -9.61463424e-02,\n",
              "        -2.32361225e+00],\n",
              "       [ 2.15413529e-03, -2.68176945e-02, -9.62647194e-02,\n",
              "         7.52314033e-01]])"
            ]
          },
          "metadata": {},
          "execution_count": 10
        }
      ]
    },
    {
      "cell_type": "code",
      "source": [
        "print(names)\n",
        "print(data)"
      ],
      "metadata": {
        "colab": {
          "base_uri": "https://localhost:8080/"
        },
        "id": "t8_RHPh4khVH",
        "outputId": "adbd519a-916a-498e-dc9d-a04481c99726"
      },
      "execution_count": 11,
      "outputs": [
        {
          "output_type": "stream",
          "name": "stdout",
          "text": [
            "['Hasan' 'Husan' 'Javohir' 'Elyor' 'Hasan' 'Javohir' 'Elyor']\n",
            "[[ 4.29175134e-01 -2.42941744e+00 -1.19612587e+00  1.32359151e+00]\n",
            " [ 1.62603502e+00 -7.25770227e-01  3.68687221e-01 -2.19556489e-01]\n",
            " [ 3.68564427e-01 -1.89978372e+00  1.19956390e-01  6.36769480e-01]\n",
            " [ 1.77265547e+00 -1.35563369e+00  1.25655520e+00 -1.31314618e+00]\n",
            " [-4.64617320e-01 -3.87599854e-02  1.25561878e+00 -5.23071825e-01]\n",
            " [-5.19736067e-01  8.90026865e-01 -9.61463424e-02 -2.32361225e+00]\n",
            " [ 2.15413529e-03 -2.68176945e-02 -9.62647194e-02  7.52314033e-01]]\n"
          ]
        }
      ]
    },
    {
      "cell_type": "code",
      "source": [
        "data[(names == 'Hasan') | (names == 'Husan')]"
      ],
      "metadata": {
        "colab": {
          "base_uri": "https://localhost:8080/"
        },
        "id": "_l3nsrv0kvhF",
        "outputId": "3095e5f3-344e-43bd-aa53-5d3f0cc2c3a7"
      },
      "execution_count": 12,
      "outputs": [
        {
          "output_type": "execute_result",
          "data": {
            "text/plain": [
              "array([[ 0.42917513, -2.42941744, -1.19612587,  1.32359151],\n",
              "       [ 1.62603502, -0.72577023,  0.36868722, -0.21955649],\n",
              "       [-0.46461732, -0.03875999,  1.25561878, -0.52307182]])"
            ]
          },
          "metadata": {},
          "execution_count": 12
        }
      ]
    },
    {
      "cell_type": "code",
      "source": [
        "data"
      ],
      "metadata": {
        "colab": {
          "base_uri": "https://localhost:8080/"
        },
        "id": "GEP6Z9CDk08D",
        "outputId": "964085e4-dfff-43b7-9b3a-b0af7381e85e"
      },
      "execution_count": 13,
      "outputs": [
        {
          "output_type": "execute_result",
          "data": {
            "text/plain": [
              "array([[ 4.29175134e-01, -2.42941744e+00, -1.19612587e+00,\n",
              "         1.32359151e+00],\n",
              "       [ 1.62603502e+00, -7.25770227e-01,  3.68687221e-01,\n",
              "        -2.19556489e-01],\n",
              "       [ 3.68564427e-01, -1.89978372e+00,  1.19956390e-01,\n",
              "         6.36769480e-01],\n",
              "       [ 1.77265547e+00, -1.35563369e+00,  1.25655520e+00,\n",
              "        -1.31314618e+00],\n",
              "       [-4.64617320e-01, -3.87599854e-02,  1.25561878e+00,\n",
              "        -5.23071825e-01],\n",
              "       [-5.19736067e-01,  8.90026865e-01, -9.61463424e-02,\n",
              "        -2.32361225e+00],\n",
              "       [ 2.15413529e-03, -2.68176945e-02, -9.62647194e-02,\n",
              "         7.52314033e-01]])"
            ]
          },
          "metadata": {},
          "execution_count": 13
        }
      ]
    },
    {
      "cell_type": "code",
      "source": [
        "data[data < 0] = 0"
      ],
      "metadata": {
        "id": "w5qAuL3emHQC"
      },
      "execution_count": 14,
      "outputs": []
    },
    {
      "cell_type": "code",
      "source": [
        "data"
      ],
      "metadata": {
        "id": "EIcaixrcmJSq",
        "outputId": "457838e8-a911-48dc-911f-08ed096cb26d",
        "colab": {
          "base_uri": "https://localhost:8080/"
        }
      },
      "execution_count": 15,
      "outputs": [
        {
          "output_type": "execute_result",
          "data": {
            "text/plain": [
              "array([[0.42917513, 0.        , 0.        , 1.32359151],\n",
              "       [1.62603502, 0.        , 0.36868722, 0.        ],\n",
              "       [0.36856443, 0.        , 0.11995639, 0.63676948],\n",
              "       [1.77265547, 0.        , 1.2565552 , 0.        ],\n",
              "       [0.        , 0.        , 1.25561878, 0.        ],\n",
              "       [0.        , 0.89002686, 0.        , 0.        ],\n",
              "       [0.00215414, 0.        , 0.        , 0.75231403]])"
            ]
          },
          "metadata": {},
          "execution_count": 15
        }
      ]
    },
    {
      "cell_type": "code",
      "source": [
        "massiv = np.random.randint(9, size=(3, 3))\n",
        "massiv.shape"
      ],
      "metadata": {
        "id": "6iHoOKGpmJ0p",
        "colab": {
          "base_uri": "https://localhost:8080/"
        },
        "outputId": "451f96d5-1fa4-4feb-8456-59ba9d772638"
      },
      "execution_count": 19,
      "outputs": [
        {
          "output_type": "execute_result",
          "data": {
            "text/plain": [
              "(3, 3)"
            ]
          },
          "metadata": {},
          "execution_count": 19
        }
      ]
    },
    {
      "cell_type": "code",
      "source": [
        "matrix = np.array([[[ 0,  1,  2],\n",
        "                [ 3,  4,  5],\n",
        "                [ 6,  7,  8]],\n",
        "\n",
        "               [[ 9, 10, 11],\n",
        "                [12, 13, 14],\n",
        "                [15, 16, 17]],\n",
        "\n",
        "               [[18, 19, 20],\n",
        "                [21, 22, 23],\n",
        "                [24, 25, 26]]])\n",
        "\n",
        "matrix.shape"
      ],
      "metadata": {
        "colab": {
          "base_uri": "https://localhost:8080/"
        },
        "id": "McaT_g-iQAeQ",
        "outputId": "7d460f9c-8655-4f77-e0d6-238c03a0abbd"
      },
      "execution_count": 31,
      "outputs": [
        {
          "output_type": "execute_result",
          "data": {
            "text/plain": [
              "(3, 3, 3)"
            ]
          },
          "metadata": {},
          "execution_count": 31
        }
      ]
    },
    {
      "cell_type": "code",
      "source": [
        "result = matrix[1, 1:, :2]\n",
        "result"
      ],
      "metadata": {
        "colab": {
          "base_uri": "https://localhost:8080/"
        },
        "id": "aLhC_X4wTWMG",
        "outputId": "d2889086-c8dc-4a38-c851-c90231df2aba"
      },
      "execution_count": 60,
      "outputs": [
        {
          "output_type": "execute_result",
          "data": {
            "text/plain": [
              "array([[12, 13],\n",
              "       [15, 16]])"
            ]
          },
          "metadata": {},
          "execution_count": 60
        }
      ]
    },
    {
      "cell_type": "code",
      "source": [
        "new_names = np.array(['Hasan', 'Husan', 'Javohir', 'Elyor', 'Hasan', 'Javohir', 'Elyor'])\n",
        "new_names"
      ],
      "metadata": {
        "colab": {
          "base_uri": "https://localhost:8080/"
        },
        "id": "h7JIJHphTtbH",
        "outputId": "eda910b7-67b9-4978-fcbb-b9e129403d30"
      },
      "execution_count": 67,
      "outputs": [
        {
          "output_type": "execute_result",
          "data": {
            "text/plain": [
              "array(['Hasan', 'Husan', 'Javohir', 'Elyor', 'Hasan', 'Javohir', 'Elyor'],\n",
              "      dtype='<U7')"
            ]
          },
          "metadata": {},
          "execution_count": 67
        }
      ]
    },
    {
      "cell_type": "code",
      "source": [
        "new_data = np.array([[5, 6, 1, 1],\n",
        "   [9, 1, 1, 1],\n",
        "   [7, 7, 4, 2],\n",
        "   [1, 5, 1, 9],\n",
        "   [9, 9, 4, 5],\n",
        "   [7, 5, 9, 6],\n",
        "   [5, 3, 7, 4]])\n",
        "new_data"
      ],
      "metadata": {
        "colab": {
          "base_uri": "https://localhost:8080/"
        },
        "id": "QjqAhoifZMxA",
        "outputId": "2af4b831-0af0-477e-e9fe-ce8690da5790"
      },
      "execution_count": 68,
      "outputs": [
        {
          "output_type": "execute_result",
          "data": {
            "text/plain": [
              "array([[5, 6, 1, 1],\n",
              "       [9, 1, 1, 1],\n",
              "       [7, 7, 4, 2],\n",
              "       [1, 5, 1, 9],\n",
              "       [9, 9, 4, 5],\n",
              "       [7, 5, 9, 6],\n",
              "       [5, 3, 7, 4]])"
            ]
          },
          "metadata": {},
          "execution_count": 68
        }
      ]
    },
    {
      "cell_type": "code",
      "source": [
        "mask = (new_names == 'Javohir') | (new_names == 'Elyor')\n",
        "mask"
      ],
      "metadata": {
        "colab": {
          "base_uri": "https://localhost:8080/"
        },
        "id": "Pq9YYayJbN9A",
        "outputId": "7ddedeb2-634d-4be8-be23-7d0aae73cd3f"
      },
      "execution_count": 73,
      "outputs": [
        {
          "output_type": "execute_result",
          "data": {
            "text/plain": [
              "array([False, False,  True,  True, False,  True,  True])"
            ]
          },
          "metadata": {},
          "execution_count": 73
        }
      ]
    },
    {
      "cell_type": "code",
      "source": [
        "new_data[mask]"
      ],
      "metadata": {
        "colab": {
          "base_uri": "https://localhost:8080/"
        },
        "id": "K-QY8o17bRvh",
        "outputId": "e91f7da1-eba4-400d-fccc-0ce359ed1044"
      },
      "execution_count": 74,
      "outputs": [
        {
          "output_type": "execute_result",
          "data": {
            "text/plain": [
              "array([[7, 7, 4, 2],\n",
              "       [1, 5, 1, 9],\n",
              "       [7, 5, 9, 6],\n",
              "       [5, 3, 7, 4]])"
            ]
          },
          "metadata": {},
          "execution_count": 74
        }
      ]
    },
    {
      "cell_type": "code",
      "source": [],
      "metadata": {
        "id": "HNe2e5_FcEWC"
      },
      "execution_count": null,
      "outputs": []
    }
  ]
}