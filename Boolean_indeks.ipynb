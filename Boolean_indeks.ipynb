{
  "nbformat": 4,
  "nbformat_minor": 0,
  "metadata": {
    "colab": {
      "provenance": [],
      "authorship_tag": "ABX9TyPGq0VHgJVH5axxrWy8lAd1",
      "include_colab_link": true
    },
    "kernelspec": {
      "name": "python3",
      "display_name": "Python 3"
    },
    "language_info": {
      "name": "python"
    }
  },
  "cells": [
    {
      "cell_type": "markdown",
      "metadata": {
        "id": "view-in-github",
        "colab_type": "text"
      },
      "source": [
        "<a href=\"https://colab.research.google.com/github/yusufbek-murodov/Test/blob/main/Boolean_indeks.ipynb\" target=\"_parent\"><img src=\"https://colab.research.google.com/assets/colab-badge.svg\" alt=\"Open In Colab\"/></a>"
      ]
    },
    {
      "cell_type": "code",
      "execution_count": 1,
      "metadata": {
        "id": "xAGvysq6jp8P"
      },
      "outputs": [],
      "source": [
        "import numpy as np"
      ]
    },
    {
      "cell_type": "code",
      "source": [
        "# Ismlar\n",
        "names = np.array(['Hasan', 'Husan', 'Javohir', 'Elyor', 'Hasan', 'Javohir', 'Elyor'])\n",
        "names"
      ],
      "metadata": {
        "colab": {
          "base_uri": "https://localhost:8080/"
        },
        "id": "KiWO-WlzjtzK",
        "outputId": "7943ffb2-ac59-45db-89d2-83a1e266a973"
      },
      "execution_count": 3,
      "outputs": [
        {
          "output_type": "execute_result",
          "data": {
            "text/plain": [
              "array(['Hasan', 'Husan', 'Javohir', 'Elyor', 'Hasan', 'Javohir', 'Elyor'],\n",
              "      dtype='<U7')"
            ]
          },
          "metadata": {},
          "execution_count": 3
        }
      ]
    },
    {
      "cell_type": "code",
      "source": [
        "# data\n",
        "data = np.random.randn(7,4)\n",
        "data"
      ],
      "metadata": {
        "colab": {
          "base_uri": "https://localhost:8080/"
        },
        "id": "e_iMvqFNj0OE",
        "outputId": "1157854e-6e5a-43f3-d98e-e2c064696db4"
      },
      "execution_count": 4,
      "outputs": [
        {
          "output_type": "execute_result",
          "data": {
            "text/plain": [
              "array([[ 0.01403562,  2.37707277, -0.83516992, -1.5142136 ],\n",
              "       [ 1.47152496,  1.64142057,  0.14316544, -0.14550955],\n",
              "       [ 1.988348  , -0.01441726,  0.91414482,  0.54817747],\n",
              "       [ 1.37572648, -1.55586994,  0.2507873 ,  0.65269808],\n",
              "       [ 0.07802936, -0.52263526,  0.7971493 ,  0.5713412 ],\n",
              "       [ 1.0423662 ,  0.97306909,  1.46000477, -0.18628596],\n",
              "       [-0.15796344, -0.85404436,  0.60983204,  2.837151  ]])"
            ]
          },
          "metadata": {},
          "execution_count": 4
        }
      ]
    },
    {
      "cell_type": "code",
      "source": [
        "names == 'Hasan'"
      ],
      "metadata": {
        "colab": {
          "base_uri": "https://localhost:8080/"
        },
        "id": "IzyYoa5Bj4QZ",
        "outputId": "3aa7de54-f56e-4797-bc8c-c22811007d0d"
      },
      "execution_count": 5,
      "outputs": [
        {
          "output_type": "execute_result",
          "data": {
            "text/plain": [
              "array([ True, False, False, False,  True, False, False])"
            ]
          },
          "metadata": {},
          "execution_count": 5
        }
      ]
    },
    {
      "cell_type": "code",
      "source": [
        "data[names == 'Hasan'] # Hasanga tegishli bo'lgan barcha ma'lumotlarni ajratib olish"
      ],
      "metadata": {
        "colab": {
          "base_uri": "https://localhost:8080/"
        },
        "id": "CrluDE0Lj7lv",
        "outputId": "4bf89c22-a478-4f8d-b850-8cb7959c7fc7"
      },
      "execution_count": 7,
      "outputs": [
        {
          "output_type": "execute_result",
          "data": {
            "text/plain": [
              "array([[ 0.01403562,  2.37707277, -0.83516992, -1.5142136 ],\n",
              "       [ 0.07802936, -0.52263526,  0.7971493 ,  0.5713412 ]])"
            ]
          },
          "metadata": {},
          "execution_count": 7
        }
      ]
    },
    {
      "cell_type": "code",
      "source": [
        "data[names == 'Elyor'] # Elyorga tegishli bo'lgan barcha ma'lumotlarni ajratib olish"
      ],
      "metadata": {
        "colab": {
          "base_uri": "https://localhost:8080/"
        },
        "id": "Ib7-Vh8RkAXn",
        "outputId": "62fc5f58-eced-4739-f5cf-83b856f4fb4d"
      },
      "execution_count": 9,
      "outputs": [
        {
          "output_type": "execute_result",
          "data": {
            "text/plain": [
              "array([[ 1.37572648, -1.55586994,  0.2507873 ,  0.65269808],\n",
              "       [-0.15796344, -0.85404436,  0.60983204,  2.837151  ]])"
            ]
          },
          "metadata": {},
          "execution_count": 9
        }
      ]
    },
    {
      "cell_type": "code",
      "source": [
        "data[names == 'Hasan', 2:] # Hasaanga tegishli bo'lgan oxirgi ikkita ustundagi ma'lumotlarni ajratib olish"
      ],
      "metadata": {
        "colab": {
          "base_uri": "https://localhost:8080/"
        },
        "id": "BljOxCBYkLru",
        "outputId": "d431187d-c91d-4919-beb6-e9182f88c67d"
      },
      "execution_count": 11,
      "outputs": [
        {
          "output_type": "execute_result",
          "data": {
            "text/plain": [
              "array([[-0.83516992, -1.5142136 ],\n",
              "       [ 0.7971493 ,  0.5713412 ]])"
            ]
          },
          "metadata": {},
          "execution_count": 11
        }
      ]
    },
    {
      "cell_type": "code",
      "source": [
        "data[names != 'Hasan'] # Hasandan tashqari barcha insonlarning ma'lumotlarini ajratib olish"
      ],
      "metadata": {
        "colab": {
          "base_uri": "https://localhost:8080/"
        },
        "id": "YL1QZfnFkTOc",
        "outputId": "2074d2af-7c67-40b4-c251-0725d773bb64"
      },
      "execution_count": 14,
      "outputs": [
        {
          "output_type": "execute_result",
          "data": {
            "text/plain": [
              "array([[ 1.47152496,  1.64142057,  0.14316544, -0.14550955],\n",
              "       [ 1.988348  , -0.01441726,  0.91414482,  0.54817747],\n",
              "       [ 1.37572648, -1.55586994,  0.2507873 ,  0.65269808],\n",
              "       [ 1.0423662 ,  0.97306909,  1.46000477, -0.18628596],\n",
              "       [-0.15796344, -0.85404436,  0.60983204,  2.837151  ]])"
            ]
          },
          "metadata": {},
          "execution_count": 14
        }
      ]
    },
    {
      "cell_type": "code",
      "source": [
        "data[~(names == 'Hasan')] # (~) yuqoridagi cell bilan bir xil natija beradi"
      ],
      "metadata": {
        "colab": {
          "base_uri": "https://localhost:8080/"
        },
        "id": "uwakeddEkbPQ",
        "outputId": "c2156246-ce5e-4818-b1cb-871ee10de548"
      },
      "execution_count": 15,
      "outputs": [
        {
          "output_type": "execute_result",
          "data": {
            "text/plain": [
              "array([[ 1.47152496,  1.64142057,  0.14316544, -0.14550955],\n",
              "       [ 1.988348  , -0.01441726,  0.91414482,  0.54817747],\n",
              "       [ 1.37572648, -1.55586994,  0.2507873 ,  0.65269808],\n",
              "       [ 1.0423662 ,  0.97306909,  1.46000477, -0.18628596],\n",
              "       [-0.15796344, -0.85404436,  0.60983204,  2.837151  ]])"
            ]
          },
          "metadata": {},
          "execution_count": 15
        }
      ]
    },
    {
      "cell_type": "code",
      "source": [
        "print(names)\n",
        "print(data)"
      ],
      "metadata": {
        "colab": {
          "base_uri": "https://localhost:8080/"
        },
        "id": "t8_RHPh4khVH",
        "outputId": "97bee9f3-f172-4af3-b383-833265e850ec"
      },
      "execution_count": 16,
      "outputs": [
        {
          "output_type": "stream",
          "name": "stdout",
          "text": [
            "['Hasan' 'Husan' 'Javohir' 'Elyor' 'Hasan' 'Javohir' 'Elyor']\n",
            "[[ 0.01403562  2.37707277 -0.83516992 -1.5142136 ]\n",
            " [ 1.47152496  1.64142057  0.14316544 -0.14550955]\n",
            " [ 1.988348   -0.01441726  0.91414482  0.54817747]\n",
            " [ 1.37572648 -1.55586994  0.2507873   0.65269808]\n",
            " [ 0.07802936 -0.52263526  0.7971493   0.5713412 ]\n",
            " [ 1.0423662   0.97306909  1.46000477 -0.18628596]\n",
            " [-0.15796344 -0.85404436  0.60983204  2.837151  ]]\n"
          ]
        }
      ]
    },
    {
      "cell_type": "code",
      "source": [
        "data[(names == 'Hasan') | (names == 'Husan')]"
      ],
      "metadata": {
        "colab": {
          "base_uri": "https://localhost:8080/"
        },
        "id": "_l3nsrv0kvhF",
        "outputId": "c1e0ca13-d502-49fa-bdcd-f43774811123"
      },
      "execution_count": 24,
      "outputs": [
        {
          "output_type": "execute_result",
          "data": {
            "text/plain": [
              "array([[ 0.01403562,  2.37707277, -0.83516992, -1.5142136 ],\n",
              "       [ 1.47152496,  1.64142057,  0.14316544, -0.14550955],\n",
              "       [ 0.07802936, -0.52263526,  0.7971493 ,  0.5713412 ]])"
            ]
          },
          "metadata": {},
          "execution_count": 24
        }
      ]
    },
    {
      "cell_type": "code",
      "source": [
        "data"
      ],
      "metadata": {
        "colab": {
          "base_uri": "https://localhost:8080/"
        },
        "id": "GEP6Z9CDk08D",
        "outputId": "c277ec6c-5314-44f1-ca6a-67a983d1abec"
      },
      "execution_count": 25,
      "outputs": [
        {
          "output_type": "execute_result",
          "data": {
            "text/plain": [
              "array([[ 0.01403562,  2.37707277, -0.83516992, -1.5142136 ],\n",
              "       [ 1.47152496,  1.64142057,  0.14316544, -0.14550955],\n",
              "       [ 1.988348  , -0.01441726,  0.91414482,  0.54817747],\n",
              "       [ 1.37572648, -1.55586994,  0.2507873 ,  0.65269808],\n",
              "       [ 0.07802936, -0.52263526,  0.7971493 ,  0.5713412 ],\n",
              "       [ 1.0423662 ,  0.97306909,  1.46000477, -0.18628596],\n",
              "       [-0.15796344, -0.85404436,  0.60983204,  2.837151  ]])"
            ]
          },
          "metadata": {},
          "execution_count": 25
        }
      ]
    },
    {
      "cell_type": "code",
      "source": [
        "data[data < 0] = 0"
      ],
      "metadata": {
        "id": "w5qAuL3emHQC"
      },
      "execution_count": 26,
      "outputs": []
    },
    {
      "cell_type": "code",
      "source": [
        "data"
      ],
      "metadata": {
        "colab": {
          "base_uri": "https://localhost:8080/"
        },
        "id": "EIcaixrcmJSq",
        "outputId": "1232d521-ebea-42fe-915f-3f9111234600"
      },
      "execution_count": 27,
      "outputs": [
        {
          "output_type": "execute_result",
          "data": {
            "text/plain": [
              "array([[0.01403562, 2.37707277, 0.        , 0.        ],\n",
              "       [1.47152496, 1.64142057, 0.14316544, 0.        ],\n",
              "       [1.988348  , 0.        , 0.91414482, 0.54817747],\n",
              "       [1.37572648, 0.        , 0.2507873 , 0.65269808],\n",
              "       [0.07802936, 0.        , 0.7971493 , 0.5713412 ],\n",
              "       [1.0423662 , 0.97306909, 1.46000477, 0.        ],\n",
              "       [0.        , 0.        , 0.60983204, 2.837151  ]])"
            ]
          },
          "metadata": {},
          "execution_count": 27
        }
      ]
    },
    {
      "cell_type": "code",
      "source": [],
      "metadata": {
        "id": "6iHoOKGpmJ0p"
      },
      "execution_count": null,
      "outputs": []
    }
  ]
}