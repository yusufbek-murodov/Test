{
  "nbformat": 4,
  "nbformat_minor": 0,
  "metadata": {
    "colab": {
      "provenance": [],
      "gpuType": "T4",
      "authorship_tag": "ABX9TyNA01wqlCR552R35MSYhFVv",
      "include_colab_link": true
    },
    "kernelspec": {
      "name": "python3",
      "display_name": "Python 3"
    },
    "language_info": {
      "name": "python"
    },
    "accelerator": "GPU"
  },
  "cells": [
    {
      "cell_type": "markdown",
      "metadata": {
        "id": "view-in-github",
        "colab_type": "text"
      },
      "source": [
        "<a href=\"https://colab.research.google.com/github/yusufbek-murodov/Test/blob/main/logic_operators.ipynb\" target=\"_parent\"><img src=\"https://colab.research.google.com/assets/colab-badge.svg\" alt=\"Open In Colab\"/></a>"
      ]
    },
    {
      "cell_type": "code",
      "execution_count": 1,
      "metadata": {
        "id": "_5kgonsqT_dV"
      },
      "outputs": [],
      "source": [
        "import numpy as np"
      ]
    },
    {
      "cell_type": "code",
      "source": [
        "# Massiv\n",
        "xarr = np.array([1.1, 1.2, 1.3, 1.4, 1.5])\n",
        "yarr = np.array([2.1, 2.2, 2.3, 2.4, 2.5])"
      ],
      "metadata": {
        "id": "kOIjpVI5UV1Z"
      },
      "execution_count": 2,
      "outputs": []
    },
    {
      "cell_type": "code",
      "source": [
        "# condition\n",
        "cond = np.array([True, False, True, True, False])"
      ],
      "metadata": {
        "id": "zJw4yBpoVOUC"
      },
      "execution_count": 3,
      "outputs": []
    },
    {
      "cell_type": "code",
      "source": [
        "# where\n",
        "result = np.where(cond, xarr, yarr) # cond==True : xarr elementi, cond==False : yarr elementi\n",
        "result"
      ],
      "metadata": {
        "colab": {
          "base_uri": "https://localhost:8080/"
        },
        "id": "IfzYvaGgVSTU",
        "outputId": "2b4d808d-ee88-4c6b-dc6c-367d93bf042a"
      },
      "execution_count": 5,
      "outputs": [
        {
          "output_type": "execute_result",
          "data": {
            "text/plain": [
              "array([1.1, 2.2, 1.3, 1.4, 2.5])"
            ]
          },
          "metadata": {},
          "execution_count": 5
        }
      ]
    },
    {
      "cell_type": "code",
      "source": [
        "arr = np.random.randn(4, 4)\n",
        "arr"
      ],
      "metadata": {
        "colab": {
          "base_uri": "https://localhost:8080/"
        },
        "id": "hYMtkCSGVccT",
        "outputId": "bf0a53dd-5ede-4700-c23e-e6ca613d20a6"
      },
      "execution_count": 7,
      "outputs": [
        {
          "output_type": "execute_result",
          "data": {
            "text/plain": [
              "array([[-0.53073238,  0.01309679,  0.7988307 ,  1.09797095],\n",
              "       [-1.09353901,  3.08896049, -1.57570497,  1.07732863],\n",
              "       [ 0.40577844, -0.53283383, -0.12737217,  0.6716958 ],\n",
              "       [-0.58315717,  0.17687328,  1.11348924, -1.91162534]])"
            ]
          },
          "metadata": {},
          "execution_count": 7
        }
      ]
    },
    {
      "cell_type": "code",
      "source": [
        "results = np.where(arr < 0, -2, 2)\n",
        "results"
      ],
      "metadata": {
        "colab": {
          "base_uri": "https://localhost:8080/"
        },
        "id": "KRkyA89CVpqq",
        "outputId": "18b86495-e2ba-4f9d-a0bc-917b6aef4f49"
      },
      "execution_count": 8,
      "outputs": [
        {
          "output_type": "execute_result",
          "data": {
            "text/plain": [
              "array([[-2,  2,  2,  2],\n",
              "       [-2,  2, -2,  2],\n",
              "       [ 2, -2, -2,  2],\n",
              "       [-2,  2,  2, -2]])"
            ]
          },
          "metadata": {},
          "execution_count": 8
        }
      ]
    },
    {
      "cell_type": "code",
      "source": [
        "results = np.where(arr > 1, 1, -1)\n",
        "results"
      ],
      "metadata": {
        "colab": {
          "base_uri": "https://localhost:8080/"
        },
        "id": "eEV5gFx4VzXD",
        "outputId": "acea69e8-4cf4-44b1-fdca-602e73f21dff"
      },
      "execution_count": 10,
      "outputs": [
        {
          "output_type": "execute_result",
          "data": {
            "text/plain": [
              "array([[-1, -1, -1,  1],\n",
              "       [-1,  1, -1,  1],\n",
              "       [-1, -1, -1, -1],\n",
              "       [-1, -1,  1, -1]])"
            ]
          },
          "metadata": {},
          "execution_count": 10
        }
      ]
    },
    {
      "cell_type": "code",
      "source": [],
      "metadata": {
        "id": "JJVxi-X6V34H"
      },
      "execution_count": null,
      "outputs": []
    }
  ]
}