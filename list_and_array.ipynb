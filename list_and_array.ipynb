{
  "nbformat": 4,
  "nbformat_minor": 0,
  "metadata": {
    "colab": {
      "provenance": [],
      "authorship_tag": "ABX9TyNIO69FzKJykyJ+X1BfUcok",
      "include_colab_link": true
    },
    "kernelspec": {
      "name": "python3",
      "display_name": "Python 3"
    },
    "language_info": {
      "name": "python"
    }
  },
  "cells": [
    {
      "cell_type": "markdown",
      "metadata": {
        "id": "view-in-github",
        "colab_type": "text"
      },
      "source": [
        "<a href=\"https://colab.research.google.com/github/yusufbek-murodov/Test/blob/main/list_and_array.ipynb\" target=\"_parent\"><img src=\"https://colab.research.google.com/assets/colab-badge.svg\" alt=\"Open In Colab\"/></a>"
      ]
    },
    {
      "cell_type": "code",
      "execution_count": null,
      "metadata": {
        "id": "RReE7G7Ykntn"
      },
      "outputs": [],
      "source": [
        "# importing numpy\n",
        "import numpy as np"
      ]
    },
    {
      "cell_type": "markdown",
      "source": [],
      "metadata": {
        "id": "YUiCEpMxmijN"
      }
    },
    {
      "cell_type": "code",
      "source": [
        "my_list = list(range(100_000)) # python list 0~99999 --> Normal\n",
        "my_array = np.array(range(100_000)) # numpy array(massiv) 0~99999 --> Vektorlashgan"
      ],
      "metadata": {
        "id": "AmuvBebalGFR"
      },
      "execution_count": null,
      "outputs": []
    },
    {
      "cell_type": "code",
      "source": [
        "my_array"
      ],
      "metadata": {
        "colab": {
          "base_uri": "https://localhost:8080/"
        },
        "id": "ETnJHGjNn_Rl",
        "outputId": "533ee873-0153-43cf-b34a-30c745b87353"
      },
      "execution_count": null,
      "outputs": [
        {
          "output_type": "execute_result",
          "data": {
            "text/plain": [
              "array([    0,     1,     2, ..., 99997, 99998, 99999])"
            ]
          },
          "metadata": {},
          "execution_count": 5
        }
      ]
    },
    {
      "cell_type": "markdown",
      "source": [
        "2.1.1 N-o'lchamli massiv (array)larga ishlov berish\n",
        "\n",
        "\n",
        "Numpyda massiv yaratishning eng oson yo'llaridan biri bu array fuksiyasi yordamida amalga oshiriladi. Va ushbu funksiya har qanday turdagi ketma-ket ma'lumotlarni qabul qilib, uni yangi Numpy arrayiga o'girib beradi."
      ],
      "metadata": {
        "id": "BtW6nycnMMGJ"
      }
    },
    {
      "cell_type": "code",
      "source": [
        "data1 = [1, 2.3, 4, 5] # list\n",
        "arr1 = np.array(data1) # array"
      ],
      "metadata": {
        "id": "V2__tHq1oBJL"
      },
      "execution_count": null,
      "outputs": []
    },
    {
      "cell_type": "code",
      "source": [
        "arr1"
      ],
      "metadata": {
        "colab": {
          "base_uri": "https://localhost:8080/"
        },
        "id": "EDcyz_sjoJFy",
        "outputId": "1ea0fbe8-def4-4e13-9663-18d9a3b53eb1"
      },
      "execution_count": null,
      "outputs": [
        {
          "output_type": "execute_result",
          "data": {
            "text/plain": [
              "array([1. , 2.3, 4. , 5. ])"
            ]
          },
          "metadata": {},
          "execution_count": 8
        }
      ]
    },
    {
      "cell_type": "code",
      "source": [
        "data2 = (1, 2, 3.4, 5)\n",
        "arr2 = np.array(data2)"
      ],
      "metadata": {
        "id": "UzOc9QsvM2Ee"
      },
      "execution_count": null,
      "outputs": []
    },
    {
      "cell_type": "code",
      "source": [
        "arr2"
      ],
      "metadata": {
        "colab": {
          "base_uri": "https://localhost:8080/"
        },
        "id": "ktUlQITZNesx",
        "outputId": "5a13b9ac-8833-4f1f-b8b1-789255e5859b"
      },
      "execution_count": null,
      "outputs": [
        {
          "output_type": "execute_result",
          "data": {
            "text/plain": [
              "array([1. , 2. , 3.4, 5. ])"
            ]
          },
          "metadata": {},
          "execution_count": 11
        }
      ]
    },
    {
      "cell_type": "code",
      "source": [
        "arr1.ndim # array 1 ning o'lchami"
      ],
      "metadata": {
        "colab": {
          "base_uri": "https://localhost:8080/"
        },
        "id": "FiXBzU7JNfNG",
        "outputId": "92cc9d63-a93c-43f5-b7cd-2b95f33a694a"
      },
      "execution_count": null,
      "outputs": [
        {
          "output_type": "execute_result",
          "data": {
            "text/plain": [
              "1"
            ]
          },
          "metadata": {},
          "execution_count": 13
        }
      ]
    },
    {
      "cell_type": "code",
      "source": [
        "arr2.ndim # array 2 ning o'lchami"
      ],
      "metadata": {
        "colab": {
          "base_uri": "https://localhost:8080/"
        },
        "id": "g732k8BBNh6M",
        "outputId": "ee18ec66-c3ee-4df4-bd30-ea7897162e06"
      },
      "execution_count": null,
      "outputs": [
        {
          "output_type": "execute_result",
          "data": {
            "text/plain": [
              "1"
            ]
          },
          "metadata": {},
          "execution_count": 14
        }
      ]
    },
    {
      "cell_type": "markdown",
      "source": [
        "ikki va unda katta o'lchamli massivlar"
      ],
      "metadata": {
        "id": "IBVN2CwWOQp8"
      }
    },
    {
      "cell_type": "code",
      "source": [
        "data3 = [[1, 2, 3, 4], [5, 6, 7, 8]] # list ichidagi list (nested list)\n",
        "arr3 = np.array(data3)"
      ],
      "metadata": {
        "id": "iaWk7kh8NmZh"
      },
      "execution_count": null,
      "outputs": []
    },
    {
      "cell_type": "code",
      "source": [
        "arr3"
      ],
      "metadata": {
        "colab": {
          "base_uri": "https://localhost:8080/"
        },
        "id": "SRU90hnDPm8O",
        "outputId": "e9f4c56e-3fcf-426f-8ab7-8cdd188609e7"
      },
      "execution_count": null,
      "outputs": [
        {
          "output_type": "execute_result",
          "data": {
            "text/plain": [
              "array([[1, 2, 3, 4],\n",
              "       [5, 6, 7, 8]])"
            ]
          },
          "metadata": {},
          "execution_count": 31
        }
      ]
    },
    {
      "cell_type": "code",
      "source": [
        "massiv = [\n",
        "    [\n",
        "        [1, 2, 3],\n",
        "        [4, 5, 6],\n",
        "        [7, 8, 9]\n",
        "    ],\n",
        "    [\n",
        "        [10, 11, 12],\n",
        "        [13, 14, 15],\n",
        "        [16, 17, 18]\n",
        "    ]\n",
        "]\n",
        "arr4 = np.array(massiv)"
      ],
      "metadata": {
        "id": "_FY1rahrPnf6"
      },
      "execution_count": null,
      "outputs": []
    },
    {
      "cell_type": "code",
      "source": [
        "arr4.ndim"
      ],
      "metadata": {
        "colab": {
          "base_uri": "https://localhost:8080/"
        },
        "id": "PEvmgFkkPxU1",
        "outputId": "e403d219-1ee3-4a53-b671-6e1be4aa659d"
      },
      "execution_count": null,
      "outputs": [
        {
          "output_type": "execute_result",
          "data": {
            "text/plain": [
              "3"
            ]
          },
          "metadata": {},
          "execution_count": 39
        }
      ]
    },
    {
      "cell_type": "markdown",
      "source": [
        "**shape**, **size** metodlari"
      ],
      "metadata": {
        "id": "VhTSuic-XYZ6"
      }
    },
    {
      "cell_type": "code",
      "source": [
        "# shape metodi massivning qator va ustunlar sonini ko'rsatadi,\n",
        "# size metodi massivdagi elementlar sonini ko'rsatadi\n",
        "\n",
        "arr3.shape"
      ],
      "metadata": {
        "colab": {
          "base_uri": "https://localhost:8080/"
        },
        "id": "ZGcZUPrCPxz_",
        "outputId": "f1824877-a2f4-4c09-9258-ea0bf6b8cbb9"
      },
      "execution_count": null,
      "outputs": [
        {
          "output_type": "execute_result",
          "data": {
            "text/plain": [
              "(2, 4)"
            ]
          },
          "metadata": {},
          "execution_count": 43
        }
      ]
    },
    {
      "cell_type": "code",
      "source": [
        "arr3.size"
      ],
      "metadata": {
        "colab": {
          "base_uri": "https://localhost:8080/"
        },
        "id": "95LSZtyvX16_",
        "outputId": "54fa5053-bc89-4068-af15-e72bd2b26e32"
      },
      "execution_count": null,
      "outputs": [
        {
          "output_type": "execute_result",
          "data": {
            "text/plain": [
              "8"
            ]
          },
          "metadata": {},
          "execution_count": 45
        }
      ]
    },
    {
      "cell_type": "markdown",
      "source": [
        "N-o'lchamli massivni yaratishning boshqa usullari\n",
        "\n",
        "**zeros** va **ones** fuksiyasi yordamida massivlar yaratish"
      ],
      "metadata": {
        "id": "bZY2aXWAX5d5"
      }
    },
    {
      "cell_type": "code",
      "source": [
        "arr5 = np.zeros((2, 4)) # barcha elementlari 0 ga teng bo'lgan (2, 4) massiv\n",
        "arr5"
      ],
      "metadata": {
        "colab": {
          "base_uri": "https://localhost:8080/"
        },
        "id": "NyAQDBiBX21j",
        "outputId": "8fae4e9b-78d6-48e8-c61f-afba30a66e34"
      },
      "execution_count": null,
      "outputs": [
        {
          "output_type": "execute_result",
          "data": {
            "text/plain": [
              "array([[0., 0., 0., 0.],\n",
              "       [0., 0., 0., 0.]])"
            ]
          },
          "metadata": {},
          "execution_count": 47
        }
      ]
    },
    {
      "cell_type": "code",
      "source": [
        "arr6 = np.ones((2, 4)) # barcha elementlari 1 ga teng bo'lgan (2, 4) massiv\n",
        "arr6"
      ],
      "metadata": {
        "colab": {
          "base_uri": "https://localhost:8080/"
        },
        "id": "OOpBghdpYIHL",
        "outputId": "b47424ad-73e6-4c86-b884-02fe6c6201ea"
      },
      "execution_count": null,
      "outputs": [
        {
          "output_type": "execute_result",
          "data": {
            "text/plain": [
              "array([[1., 1., 1., 1.],\n",
              "       [1., 1., 1., 1.]])"
            ]
          },
          "metadata": {},
          "execution_count": 50
        }
      ]
    },
    {
      "cell_type": "markdown",
      "source": [
        "**arrange** fuksiyasi yordamida yaratish"
      ],
      "metadata": {
        "id": "g66tKFLCYeqq"
      }
    },
    {
      "cell_type": "code",
      "source": [
        "arr7 = np.arange(4, 20, 2) # 4 dan 20 gacha bo'lgan qiymatlarni 2 qadam bilan massivga joylab beradi\n",
        "arr7"
      ],
      "metadata": {
        "colab": {
          "base_uri": "https://localhost:8080/"
        },
        "id": "kLdiIsxQYUqV",
        "outputId": "4e1d874e-ef07-48a8-d357-e56cd7296da4"
      },
      "execution_count": null,
      "outputs": [
        {
          "output_type": "execute_result",
          "data": {
            "text/plain": [
              "array([ 4,  6,  8, 10, 12, 14, 16, 18])"
            ]
          },
          "metadata": {},
          "execution_count": 53
        }
      ]
    },
    {
      "cell_type": "code",
      "source": [
        "arr8 = np.arange(20) # 0 dan 20 gacha bo'lgan qiymatlarni 1 qadam bilan massivga joylab beradi\n",
        "arr8"
      ],
      "metadata": {
        "colab": {
          "base_uri": "https://localhost:8080/"
        },
        "id": "r_fLpITcYn7m",
        "outputId": "7cfa020e-1ee5-40e2-e5cc-42dfbcbec546"
      },
      "execution_count": null,
      "outputs": [
        {
          "output_type": "execute_result",
          "data": {
            "text/plain": [
              "array([ 0,  1,  2,  3,  4,  5,  6,  7,  8,  9, 10, 11, 12, 13, 14, 15, 16,\n",
              "       17, 18, 19])"
            ]
          },
          "metadata": {},
          "execution_count": 56
        }
      ]
    },
    {
      "cell_type": "code",
      "source": [
        "arr9 = np.random.rand(2, 4) # (2, 4) o'lchamli --> (0 ~ 1) taxminiy qiymatlardan tashkil topadi\n",
        "arr9"
      ],
      "metadata": {
        "colab": {
          "base_uri": "https://localhost:8080/"
        },
        "id": "K1ozEG7xY8_V",
        "outputId": "207ff6e9-e869-49cf-b632-f4c66f71e3ee"
      },
      "execution_count": null,
      "outputs": [
        {
          "output_type": "execute_result",
          "data": {
            "text/plain": [
              "array([[0.12135652, 0.25715826, 0.71893767, 0.95513011],\n",
              "       [0.83175993, 0.46982631, 0.80428583, 0.6378168 ]])"
            ]
          },
          "metadata": {},
          "execution_count": 57
        }
      ]
    },
    {
      "cell_type": "code",
      "source": [
        "arr10 = np.random.randint(5, size=(5)) # (2, 4) o'lchamli va max qiymati 5 bo'lgan int sonlar\n",
        "arr10"
      ],
      "metadata": {
        "colab": {
          "base_uri": "https://localhost:8080/"
        },
        "id": "NKcSEALHZR-w",
        "outputId": "c1c22177-fa9d-45b5-e5f0-0d4234669a24"
      },
      "execution_count": null,
      "outputs": [
        {
          "output_type": "execute_result",
          "data": {
            "text/plain": [
              "array([0, 3, 4, 4, 2])"
            ]
          },
          "metadata": {},
          "execution_count": 60
        }
      ]
    },
    {
      "cell_type": "code",
      "source": [
        "arr11 = np.random.randn(2, 4) # (2, 4) o'lchamli --> elementlari (Norm dist)\n",
        "arr11"
      ],
      "metadata": {
        "colab": {
          "base_uri": "https://localhost:8080/"
        },
        "id": "2laXD1sQhnna",
        "outputId": "03581eb1-54de-4c16-d3bc-e3bba86b5141"
      },
      "execution_count": null,
      "outputs": [
        {
          "output_type": "execute_result",
          "data": {
            "text/plain": [
              "array([[ 1.13204962, -1.42987244,  1.86644192, -0.02052022],\n",
              "       [-0.77125722,  0.95602835, -0.56689819,  1.39685382]])"
            ]
          },
          "metadata": {},
          "execution_count": 59
        }
      ]
    },
    {
      "cell_type": "code",
      "source": [],
      "metadata": {
        "id": "o8mJCQyYhxv4"
      },
      "execution_count": null,
      "outputs": []
    }
  ]
}